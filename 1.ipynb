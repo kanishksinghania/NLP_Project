{
 "cells": [
  {
   "cell_type": "code",
   "execution_count": 1,
   "metadata": {},
   "outputs": [],
   "source": [
    "import requests\n",
    "from bs4 import BeautifulSoup"
   ]
  },
  {
   "cell_type": "code",
   "execution_count": 2,
   "metadata": {},
   "outputs": [],
   "source": [
    "def scrape_race_commentary(url):\n",
    "    response = requests.get(url)\n",
    "    \n",
    "    if response.status_code == 200:\n",
    "        soup = BeautifulSoup(response.text, 'html.parser')\n",
    "        commentary_elements = soup.find_all('span', class_='mslt-msg_text-content')\n",
    "        commentary_text = [element.get_text() for element in commentary_elements]\n",
    "        return commentary_text\n",
    "    else:\n",
    "        return None\n"
   ]
  },
  {
   "cell_type": "code",
   "execution_count": 4,
   "metadata": {},
   "outputs": [],
   "source": [
    "url = 'https://www.autosport.com/f1/live-text/f1-japanese-gp-live-commentary-and-updates-race-1121734/1121734/#:~:text=09%3A59%20Perez%20completes%20the,by%20to%20take%20seventh%20place.'\n",
    "commentary_data = scrape_race_commentary(url)"
   ]
  },
  {
   "cell_type": "code",
   "execution_count": 5,
   "metadata": {},
   "outputs": [
    {
     "name": "stdout",
     "output_type": "stream",
     "text": [
      "Comment 1: So join us on the 19-21 April for the Chinese GP weekend which also includes the first sprint race of the season. Until then, have a lovely rest of your Sunday. Go well!\n",
      "\n",
      "Comment 2: The trophies are handed out and the podium finishers get busy with the fizzy! That marks the end of the Japanese GP weekend - but in just two weeks we go again with a return to China.\n",
      "\n",
      "Comment 3: It is time for the podium, with the very familiar combination of the Dutch and Austrian national anthems playing to mark Verstappen's win for Red Bull.\n",
      "\n",
      "Comment 4: Sainz lets out a sigh as he watches Verstappen cross the line with nobody else in the picture. That's a good summary of the last couple of years in F1 has generally been. Dominant from Red Bull and Verstappen once again.\n",
      "\n",
      "Comment 5: They then assess the first-lap clash between Albon and Ricciardo, and Verstappen turns into a steward to say it was unfortunate with Ricciardo looking left towards the corner and not seeing Albon behind him. Maxplaining turns into Maxstewarding?\n",
      "\n",
      "Comment 6: The podium trio make their way to the cooldown room for a drink and a chat. Sainz asks Verstappen if they considered a one-stop but he shakes his head, and Perez adds the hard was the strong tyre today.\n",
      "\n",
      "Comment 7: \"It was very nice, the critical bit was the start to stay ahead and then the car for me just got better and better during the race, which may have been with the clouds coming in. It couldn't have been any better,\" Verstappen says on his third win of the season.\n",
      "\n",
      "Comment 8: \"It was a good weekend for the team, with the start and the restart was hard to keep the focus for such a long time. My second start was better but just not enough to get by Max. We paid the price as we were off balance in that first stint which meant we couldn't keep it alive and we had to box and we were undercut by Lando, but then on the hard I was more comfortable so we came back,\" Perez concludes on his race.\n",
      "\n",
      "Comment 9: Here's the developing race report on the Japanese GP.\n",
      "    \n",
      "Max Verstappen, Red Bull Racing RB20\n",
      "Photo by: Simon Galloway / Motorsport Images\n",
      "\n",
      "\n",
      "Comment 10: \"I had a good race, so very happy, it was tough out there with the degradation, but then the clouds came and the degradation was lower. Then I had a lot of cars to overtake which is tricky here,\" Sainz summaries of his race.\n",
      "\n",
      "Comment 11: The Russell vs Piastri incident at the chicane will be investigated after the race - along with the Ricciardo and Albon clash from the opening lap - to keep the stewards busy today.\n",
      "\n",
      "Comment 12: A dominant display for Red Bull, but an exciting race with lots of overtakes thanks to differing tyre strategies.\n",
      "\n",
      "Comment 13: Hulkenberg just misses out in 11th ahead of Stroll, Magnussen, Bottas, Ocon, Gasly and Sargeant as the classified finishers. DNFs for Zhou, Ricciardo and Albon.\n",
      "\n",
      "Comment 14: Alonso keeps clear of Russell over the final lap to keep sixth, with Piastri taking eighth ahead of Hamilton. Tsunoda completes the points places - a top 10 in his home race for the first time!\n",
      "\n",
      "Comment 15: Perez completes the Red Bull 1-2, with Sainz taking third place ahead of Leclerc and Norris.\n",
      "\n",
      "Comment 16: Verstappen rounds the final corner and wins the Japanese GP!\n",
      "\n",
      "Comment 17: Piastri goes wide out of the chicane and at the start of the final lap Russell gets by to take seventh place.\n",
      "\n",
      "Comment 18: Verstappen starts the final lap with a 13s lead over Perez. Game, set and match.\n",
      "\n",
      "Comment 19: Alonso does ease off to give Piastri DRS to defend from Russell. This situation always seems to happen to Russell - last year it was Singapore with Sainz and Norris, now it is with Alonso and Piastri.\n",
      "\n",
      "Comment 20: Verstappen, as expected, winds up his Red Bull and releases it at maximum pace to grab the fastest lap with a 1m33.706s. That's the extra point taken back from Sainz.\n",
      "\n",
      "Comment 21: All that has allowed Alonso to scamper clear, but will he ease off again to give Piastri DRS?\n",
      "\n",
      "Comment 22: Russell dives to the inside of Piastri at the chicane and the Australia cuts the corner, and then they both had DRS and came so close to contact into Turn 1.\n",
      "\n",
      "Comment 23: The fight for sixth is also on, with Alonso giving DRS to Piastri with Russell hunting them both down.\n",
      "\n",
      "Comment 24: Hulkenberg now passes Magnussen, who had been trying to make a one-stop strategy work.\n",
      "\n",
      "Comment 25: \"It's unbelievable how bad our speed is in a straight. It's like a different category,\" says Stroll. He's not a happy camper right now.\n",
      "\n",
      "Comment 26: Verstappen has got this win tied up with an 11.3s lead over Perez with five laps to go. Sainz currently holds the fastest lap bonus point.\n",
      "\n",
      "Comment 27: Up to P13 goes Hulkenberg. It's been a tough race for him after a dreadful restart, as Stroll passes Magnussen around the outside of The Esses for P11.\n",
      "\n",
      "Comment 28: 1-2 Red Bull, 3-4 Ferrari - over to you Piastri to make it 5-6 McLaren.\n",
      "\n",
      "Comment 29: At the start of lap 46, Sainz uses DRS to pull alongside Leclerc and dives around the outside to make the move stick into Turn 1. Sainz is up to third.\n",
      "\n",
      "Comment 30: Leclerc has been advised to not defend too hard against Sainz because he is racing Norris, while Sainz has been told he is on for the podium and therefore free to attack Leclerc. That's basically team orders, right?\n",
      "\n",
      "Comment 31: But not for long as Sainz uses DRS to fly by Norris to take fourth place before Turn 1. It is Ferrari vs Ferrari for third.\n",
      "\n",
      "Comment 32: Unsurprisingly, Williams pit Sargeant for a fresh set of tyres. He's now at the back of the pack, 38s off Gasly in P16.\n",
      "\n",
      "Comment 33: Norris locks up into the hairpin, feeling the pressure from Sainz, but keeps hold of fourth for now.\n",
      "\n",
      "Comment 34: Leclerc will be defending from Norris and Sainz until the end of this race in the fight for the final podium spot as we head into the final 10 laps. Leclerc is 1.8s ahead of Norris with Sainz 0.9s back.\n",
      "\n",
      "Comment 35: Sargeant is reversing back onto the track and is able to continue in his now gravel-coloured Williams. No contact with the barrier but there will likely be some floor damage sustained.\n",
      "\n",
      "Comment 36: Sargeant has stopped at Degna Two.\n",
      "\n",
      "Comment 37: \"What's the gap ahead? It looks like we lost even more time,\" says Hamilton. Mercedes blame a slow in-lap for the loss. \n",
      "\n",
      "Comment 38: Assuming Leclerc sticks with his one-stop strategy, that'll be it for the pitstops for the frontrunners. Verstappen leads by 8.9s from Perez, who has a 6.2s gap to Leclerc in third.\n",
      "\n",
      "Comment 39: Hamilton duly pits at the end of lap 39 for mediums and comes out in ninth and behind Russell.\n",
      "\n",
      "Comment 40: It appears Mercedes has abandoned its one-stop gamble given Russell has stopped again, switching to mediums, while Hamilton is weighing up his options. He's sixth but two seconds per lap slower than Alonso behind.\n",
      "\n",
      "Comment 41: \n",
      "\n"
     ]
    }
   ],
   "source": [
    "if commentary_data:\n",
    "    for i, comment in enumerate(commentary_data):\n",
    "        print(f\"Comment {i + 1}: {comment}\\n\")"
   ]
  },
  {
   "cell_type": "code",
   "execution_count": 6,
   "metadata": {},
   "outputs": [],
   "source": [
    "def extract_overtakes(commentary_text):\n",
    "    overtakes = [comment for comment in commentary_text if 'overtake' in comment.lower() or 'pass' in comment.lower()]\n",
    "    return overtakes"
   ]
  },
  {
   "cell_type": "code",
   "execution_count": 7,
   "metadata": {},
   "outputs": [
    {
     "name": "stdout",
     "output_type": "stream",
     "text": [
      "Overtakes:\n",
      "1: \"I had a good race, so very happy, it was tough out there with the degradation, but then the clouds came and the degradation was lower. Then I had a lot of cars to overtake which is tricky here,\" Sainz summaries of his race.\n",
      "2: A dominant display for Red Bull, but an exciting race with lots of overtakes thanks to differing tyre strategies.\n",
      "3: Hulkenberg now passes Magnussen, who had been trying to make a one-stop strategy work.\n",
      "4: Up to P13 goes Hulkenberg. It's been a tough race for him after a dreadful restart, as Stroll passes Magnussen around the outside of The Esses for P11.\n"
     ]
    }
   ],
   "source": [
    "if commentary_data:\n",
    "    overtakes = extract_overtakes(commentary_data)\n",
    "\n",
    "    print(\"Overtakes:\")\n",
    "    for i, overtake in enumerate(overtakes):\n",
    "        print(f\"{i + 1}: {overtake}\")"
   ]
  },
  {
   "cell_type": "code",
   "execution_count": 8,
   "metadata": {},
   "outputs": [],
   "source": [
    "def extract_pit_stops(commentary_text):\n",
    "    pit_stop_keywords = ['pit', 'box', 'pitting']\n",
    "    pit_stops = [comment for comment in commentary_text if any(keyword in comment.lower() for keyword in pit_stop_keywords)]\n",
    "    return pit_stops\n"
   ]
  },
  {
   "cell_type": "code",
   "execution_count": 9,
   "metadata": {},
   "outputs": [
    {
     "name": "stdout",
     "output_type": "stream",
     "text": [
      "\n",
      "Pit Stops:\n",
      "1: \"It was a good weekend for the team, with the start and the restart was hard to keep the focus for such a long time. My second start was better but just not enough to get by Max. We paid the price as we were off balance in that first stint which meant we couldn't keep it alive and we had to box and we were undercut by Lando, but then on the hard I was more comfortable so we came back,\" Perez concludes on his race.\n",
      "2: Unsurprisingly, Williams pit Sargeant for a fresh set of tyres. He's now at the back of the pack, 38s off Gasly in P16.\n",
      "3: Assuming Leclerc sticks with his one-stop strategy, that'll be it for the pitstops for the frontrunners. Verstappen leads by 8.9s from Perez, who has a 6.2s gap to Leclerc in third.\n",
      "4: Hamilton duly pits at the end of lap 39 for mediums and comes out in ninth and behind Russell.\n"
     ]
    }
   ],
   "source": [
    "if commentary_data:\n",
    "    pit_stops = extract_pit_stops(commentary_data)\n",
    "\n",
    "    print(\"\\nPit Stops:\")\n",
    "    for i, pit_stop in enumerate(pit_stops):\n",
    "        print(f\"{i + 1}: {pit_stop}\")"
   ]
  },
  {
   "cell_type": "code",
   "execution_count": 10,
   "metadata": {},
   "outputs": [],
   "source": [
    "def extract_retirements(commentary_text):\n",
    "    retirement_keywords = ['retire', 'out', 'mechanical issue', 'technical problem']\n",
    "    retirements = [comment for comment in commentary_text if any(keyword in comment.lower() for keyword in retirement_keywords) and len(comment.split()) > 5]\n",
    "    return retirements\n"
   ]
  },
  {
   "cell_type": "code",
   "execution_count": 11,
   "metadata": {},
   "outputs": [
    {
     "name": "stdout",
     "output_type": "stream",
     "text": [
      "\n",
      "Retirements:\n",
      "1: The trophies are handed out and the podium finishers get busy with the fizzy! That marks the end of the Japanese GP weekend - but in just two weeks we go again with a return to China.\n",
      "2: Sainz lets out a sigh as he watches Verstappen cross the line with nobody else in the picture. That's a good summary of the last couple of years in F1 has generally been. Dominant from Red Bull and Verstappen once again.\n",
      "3: \"I had a good race, so very happy, it was tough out there with the degradation, but then the clouds came and the degradation was lower. Then I had a lot of cars to overtake which is tricky here,\" Sainz summaries of his race.\n",
      "4: Hulkenberg just misses out in 11th ahead of Stroll, Magnussen, Bottas, Ocon, Gasly and Sargeant as the classified finishers. DNFs for Zhou, Ricciardo and Albon.\n",
      "5: Piastri goes wide out of the chicane and at the start of the final lap Russell gets by to take seventh place.\n",
      "6: Up to P13 goes Hulkenberg. It's been a tough race for him after a dreadful restart, as Stroll passes Magnussen around the outside of The Esses for P11.\n",
      "7: At the start of lap 46, Sainz uses DRS to pull alongside Leclerc and dives around the outside to make the move stick into Turn 1. Sainz is up to third.\n",
      "8: Hamilton duly pits at the end of lap 39 for mediums and comes out in ninth and behind Russell.\n"
     ]
    }
   ],
   "source": [
    "if commentary_data:\n",
    "    retirements = extract_retirements(commentary_data)\n",
    "\n",
    "    print(\"\\nRetirements:\")\n",
    "    for i, retirement in enumerate(retirements):\n",
    "        print(f\"{i + 1}: {retirement}\")"
   ]
  },
  {
   "cell_type": "code",
   "execution_count": 23,
   "metadata": {},
   "outputs": [
    {
     "ename": "ValueError",
     "evalue": "Invalid RGBA argument: 'bronze'",
     "output_type": "error",
     "traceback": [
      "\u001b[1;31m---------------------------------------------------------------------------\u001b[0m",
      "\u001b[1;31mValueError\u001b[0m                                Traceback (most recent call last)",
      "Cell \u001b[1;32mIn[23], line 31\u001b[0m\n\u001b[0;32m     29\u001b[0m positions \u001b[38;5;241m=\u001b[39m [\u001b[38;5;124m\"\u001b[39m\u001b[38;5;124m1st\u001b[39m\u001b[38;5;124m\"\u001b[39m, \u001b[38;5;124m\"\u001b[39m\u001b[38;5;124m2nd\u001b[39m\u001b[38;5;124m\"\u001b[39m, \u001b[38;5;124m\"\u001b[39m\u001b[38;5;124m3rd\u001b[39m\u001b[38;5;124m\"\u001b[39m]\n\u001b[0;32m     30\u001b[0m drivers \u001b[38;5;241m=\u001b[39m podium_finishes\n\u001b[1;32m---> 31\u001b[0m \u001b[43mplt\u001b[49m\u001b[38;5;241;43m.\u001b[39;49m\u001b[43mbar\u001b[49m\u001b[43m(\u001b[49m\u001b[43mpositions\u001b[49m\u001b[43m,\u001b[49m\u001b[43m \u001b[49m\u001b[43mdrivers\u001b[49m\u001b[43m,\u001b[49m\u001b[43m \u001b[49m\u001b[43mcolor\u001b[49m\u001b[38;5;241;43m=\u001b[39;49m\u001b[43m[\u001b[49m\u001b[38;5;124;43m'\u001b[39;49m\u001b[38;5;124;43mgold\u001b[39;49m\u001b[38;5;124;43m'\u001b[39;49m\u001b[43m,\u001b[49m\u001b[43m \u001b[49m\u001b[38;5;124;43m'\u001b[39;49m\u001b[38;5;124;43msilver\u001b[39;49m\u001b[38;5;124;43m'\u001b[39;49m\u001b[43m,\u001b[49m\u001b[43m \u001b[49m\u001b[38;5;124;43m'\u001b[39;49m\u001b[38;5;124;43mbronze\u001b[39;49m\u001b[38;5;124;43m'\u001b[39;49m\u001b[43m]\u001b[49m\u001b[43m)\u001b[49m\n\u001b[0;32m     32\u001b[0m plt\u001b[38;5;241m.\u001b[39mxlabel(\u001b[38;5;124m'\u001b[39m\u001b[38;5;124mPosition\u001b[39m\u001b[38;5;124m'\u001b[39m)\n\u001b[0;32m     33\u001b[0m plt\u001b[38;5;241m.\u001b[39mylabel(\u001b[38;5;124m'\u001b[39m\u001b[38;5;124mDriver\u001b[39m\u001b[38;5;124m'\u001b[39m)\n",
      "File \u001b[1;32mc:\\Users\\Kanishk Singhania\\AppData\\Local\\Programs\\Python\\Python310\\lib\\site-packages\\matplotlib\\pyplot.py:2439\u001b[0m, in \u001b[0;36mbar\u001b[1;34m(x, height, width, bottom, align, data, **kwargs)\u001b[0m\n\u001b[0;32m   2435\u001b[0m \u001b[38;5;129m@_copy_docstring_and_deprecators\u001b[39m(Axes\u001b[38;5;241m.\u001b[39mbar)\n\u001b[0;32m   2436\u001b[0m \u001b[38;5;28;01mdef\u001b[39;00m \u001b[38;5;21mbar\u001b[39m(\n\u001b[0;32m   2437\u001b[0m         x, height, width\u001b[38;5;241m=\u001b[39m\u001b[38;5;241m0.8\u001b[39m, bottom\u001b[38;5;241m=\u001b[39m\u001b[38;5;28;01mNone\u001b[39;00m, \u001b[38;5;241m*\u001b[39m, align\u001b[38;5;241m=\u001b[39m\u001b[38;5;124m'\u001b[39m\u001b[38;5;124mcenter\u001b[39m\u001b[38;5;124m'\u001b[39m,\n\u001b[0;32m   2438\u001b[0m         data\u001b[38;5;241m=\u001b[39m\u001b[38;5;28;01mNone\u001b[39;00m, \u001b[38;5;241m*\u001b[39m\u001b[38;5;241m*\u001b[39mkwargs):\n\u001b[1;32m-> 2439\u001b[0m     \u001b[38;5;28;01mreturn\u001b[39;00m gca()\u001b[38;5;241m.\u001b[39mbar(\n\u001b[0;32m   2440\u001b[0m         x, height, width\u001b[38;5;241m=\u001b[39mwidth, bottom\u001b[38;5;241m=\u001b[39mbottom, align\u001b[38;5;241m=\u001b[39malign,\n\u001b[0;32m   2441\u001b[0m         \u001b[38;5;241m*\u001b[39m\u001b[38;5;241m*\u001b[39m({\u001b[38;5;124m\"\u001b[39m\u001b[38;5;124mdata\u001b[39m\u001b[38;5;124m\"\u001b[39m: data} \u001b[38;5;28;01mif\u001b[39;00m data \u001b[38;5;129;01mis\u001b[39;00m \u001b[38;5;129;01mnot\u001b[39;00m \u001b[38;5;28;01mNone\u001b[39;00m \u001b[38;5;28;01melse\u001b[39;00m {}), \u001b[38;5;241m*\u001b[39m\u001b[38;5;241m*\u001b[39mkwargs)\n",
      "File \u001b[1;32mc:\\Users\\Kanishk Singhania\\AppData\\Local\\Programs\\Python\\Python310\\lib\\site-packages\\matplotlib\\__init__.py:1461\u001b[0m, in \u001b[0;36m_preprocess_data.<locals>.inner\u001b[1;34m(ax, data, *args, **kwargs)\u001b[0m\n\u001b[0;32m   1458\u001b[0m \u001b[38;5;129m@functools\u001b[39m\u001b[38;5;241m.\u001b[39mwraps(func)\n\u001b[0;32m   1459\u001b[0m \u001b[38;5;28;01mdef\u001b[39;00m \u001b[38;5;21minner\u001b[39m(ax, \u001b[38;5;241m*\u001b[39margs, data\u001b[38;5;241m=\u001b[39m\u001b[38;5;28;01mNone\u001b[39;00m, \u001b[38;5;241m*\u001b[39m\u001b[38;5;241m*\u001b[39mkwargs):\n\u001b[0;32m   1460\u001b[0m     \u001b[38;5;28;01mif\u001b[39;00m data \u001b[38;5;129;01mis\u001b[39;00m \u001b[38;5;28;01mNone\u001b[39;00m:\n\u001b[1;32m-> 1461\u001b[0m         \u001b[38;5;28;01mreturn\u001b[39;00m func(ax, \u001b[38;5;241m*\u001b[39m\u001b[38;5;28mmap\u001b[39m(sanitize_sequence, args), \u001b[38;5;241m*\u001b[39m\u001b[38;5;241m*\u001b[39mkwargs)\n\u001b[0;32m   1463\u001b[0m     bound \u001b[38;5;241m=\u001b[39m new_sig\u001b[38;5;241m.\u001b[39mbind(ax, \u001b[38;5;241m*\u001b[39margs, \u001b[38;5;241m*\u001b[39m\u001b[38;5;241m*\u001b[39mkwargs)\n\u001b[0;32m   1464\u001b[0m     auto_label \u001b[38;5;241m=\u001b[39m (bound\u001b[38;5;241m.\u001b[39marguments\u001b[38;5;241m.\u001b[39mget(label_namer)\n\u001b[0;32m   1465\u001b[0m                   \u001b[38;5;129;01mor\u001b[39;00m bound\u001b[38;5;241m.\u001b[39mkwargs\u001b[38;5;241m.\u001b[39mget(label_namer))\n",
      "File \u001b[1;32mc:\\Users\\Kanishk Singhania\\AppData\\Local\\Programs\\Python\\Python310\\lib\\site-packages\\matplotlib\\axes\\_axes.py:2433\u001b[0m, in \u001b[0;36mAxes.bar\u001b[1;34m(self, x, height, width, bottom, align, **kwargs)\u001b[0m\n\u001b[0;32m   2431\u001b[0m linewidth \u001b[38;5;241m=\u001b[39m itertools\u001b[38;5;241m.\u001b[39mcycle(np\u001b[38;5;241m.\u001b[39matleast_1d(linewidth))\n\u001b[0;32m   2432\u001b[0m hatch \u001b[38;5;241m=\u001b[39m itertools\u001b[38;5;241m.\u001b[39mcycle(np\u001b[38;5;241m.\u001b[39matleast_1d(hatch))\n\u001b[1;32m-> 2433\u001b[0m color \u001b[38;5;241m=\u001b[39m itertools\u001b[38;5;241m.\u001b[39mchain(itertools\u001b[38;5;241m.\u001b[39mcycle(\u001b[43mmcolors\u001b[49m\u001b[38;5;241;43m.\u001b[39;49m\u001b[43mto_rgba_array\u001b[49m\u001b[43m(\u001b[49m\u001b[43mcolor\u001b[49m\u001b[43m)\u001b[49m),\n\u001b[0;32m   2434\u001b[0m                         \u001b[38;5;66;03m# Fallback if color == \"none\".\u001b[39;00m\n\u001b[0;32m   2435\u001b[0m                         itertools\u001b[38;5;241m.\u001b[39mrepeat(\u001b[38;5;124m'\u001b[39m\u001b[38;5;124mnone\u001b[39m\u001b[38;5;124m'\u001b[39m))\n\u001b[0;32m   2436\u001b[0m \u001b[38;5;28;01mif\u001b[39;00m edgecolor \u001b[38;5;129;01mis\u001b[39;00m \u001b[38;5;28;01mNone\u001b[39;00m:\n\u001b[0;32m   2437\u001b[0m     edgecolor \u001b[38;5;241m=\u001b[39m itertools\u001b[38;5;241m.\u001b[39mrepeat(\u001b[38;5;28;01mNone\u001b[39;00m)\n",
      "File \u001b[1;32mc:\\Users\\Kanishk Singhania\\AppData\\Local\\Programs\\Python\\Python310\\lib\\site-packages\\matplotlib\\colors.py:485\u001b[0m, in \u001b[0;36mto_rgba_array\u001b[1;34m(c, alpha)\u001b[0m\n\u001b[0;32m    483\u001b[0m         rgba \u001b[38;5;241m=\u001b[39m np\u001b[38;5;241m.\u001b[39marray(c)\n\u001b[0;32m    484\u001b[0m     \u001b[38;5;28;01melse\u001b[39;00m:\n\u001b[1;32m--> 485\u001b[0m         rgba \u001b[38;5;241m=\u001b[39m np\u001b[38;5;241m.\u001b[39marray([to_rgba(cc) \u001b[38;5;28;01mfor\u001b[39;00m cc \u001b[38;5;129;01min\u001b[39;00m c])\n\u001b[0;32m    486\u001b[0m \u001b[38;5;28;01melse\u001b[39;00m:\n\u001b[0;32m    487\u001b[0m     rgba \u001b[38;5;241m=\u001b[39m np\u001b[38;5;241m.\u001b[39marray([to_rgba(cc) \u001b[38;5;28;01mfor\u001b[39;00m cc \u001b[38;5;129;01min\u001b[39;00m c])\n",
      "File \u001b[1;32mc:\\Users\\Kanishk Singhania\\AppData\\Local\\Programs\\Python\\Python310\\lib\\site-packages\\matplotlib\\colors.py:485\u001b[0m, in \u001b[0;36m<listcomp>\u001b[1;34m(.0)\u001b[0m\n\u001b[0;32m    483\u001b[0m         rgba \u001b[38;5;241m=\u001b[39m np\u001b[38;5;241m.\u001b[39marray(c)\n\u001b[0;32m    484\u001b[0m     \u001b[38;5;28;01melse\u001b[39;00m:\n\u001b[1;32m--> 485\u001b[0m         rgba \u001b[38;5;241m=\u001b[39m np\u001b[38;5;241m.\u001b[39marray([\u001b[43mto_rgba\u001b[49m\u001b[43m(\u001b[49m\u001b[43mcc\u001b[49m\u001b[43m)\u001b[49m \u001b[38;5;28;01mfor\u001b[39;00m cc \u001b[38;5;129;01min\u001b[39;00m c])\n\u001b[0;32m    486\u001b[0m \u001b[38;5;28;01melse\u001b[39;00m:\n\u001b[0;32m    487\u001b[0m     rgba \u001b[38;5;241m=\u001b[39m np\u001b[38;5;241m.\u001b[39marray([to_rgba(cc) \u001b[38;5;28;01mfor\u001b[39;00m cc \u001b[38;5;129;01min\u001b[39;00m c])\n",
      "File \u001b[1;32mc:\\Users\\Kanishk Singhania\\AppData\\Local\\Programs\\Python\\Python310\\lib\\site-packages\\matplotlib\\colors.py:299\u001b[0m, in \u001b[0;36mto_rgba\u001b[1;34m(c, alpha)\u001b[0m\n\u001b[0;32m    297\u001b[0m     rgba \u001b[38;5;241m=\u001b[39m \u001b[38;5;28;01mNone\u001b[39;00m\n\u001b[0;32m    298\u001b[0m \u001b[38;5;28;01mif\u001b[39;00m rgba \u001b[38;5;129;01mis\u001b[39;00m \u001b[38;5;28;01mNone\u001b[39;00m:  \u001b[38;5;66;03m# Suppress exception chaining of cache lookup failure.\u001b[39;00m\n\u001b[1;32m--> 299\u001b[0m     rgba \u001b[38;5;241m=\u001b[39m \u001b[43m_to_rgba_no_colorcycle\u001b[49m\u001b[43m(\u001b[49m\u001b[43mc\u001b[49m\u001b[43m,\u001b[49m\u001b[43m \u001b[49m\u001b[43malpha\u001b[49m\u001b[43m)\u001b[49m\n\u001b[0;32m    300\u001b[0m     \u001b[38;5;28;01mtry\u001b[39;00m:\n\u001b[0;32m    301\u001b[0m         _colors_full_map\u001b[38;5;241m.\u001b[39mcache[c, alpha] \u001b[38;5;241m=\u001b[39m rgba\n",
      "File \u001b[1;32mc:\\Users\\Kanishk Singhania\\AppData\\Local\\Programs\\Python\\Python310\\lib\\site-packages\\matplotlib\\colors.py:374\u001b[0m, in \u001b[0;36m_to_rgba_no_colorcycle\u001b[1;34m(c, alpha)\u001b[0m\n\u001b[0;32m    370\u001b[0m             \u001b[38;5;28;01mraise\u001b[39;00m \u001b[38;5;167;01mValueError\u001b[39;00m(\n\u001b[0;32m    371\u001b[0m                 \u001b[38;5;124mf\u001b[39m\u001b[38;5;124m\"\u001b[39m\u001b[38;5;124mInvalid string grayscale value \u001b[39m\u001b[38;5;132;01m{\u001b[39;00morig_c\u001b[38;5;132;01m!r}\u001b[39;00m\u001b[38;5;124m. \u001b[39m\u001b[38;5;124m\"\u001b[39m\n\u001b[0;32m    372\u001b[0m                 \u001b[38;5;124mf\u001b[39m\u001b[38;5;124m\"\u001b[39m\u001b[38;5;124mValue must be within 0-1 range\u001b[39m\u001b[38;5;124m\"\u001b[39m)\n\u001b[0;32m    373\u001b[0m         \u001b[38;5;28;01mreturn\u001b[39;00m c, c, c, alpha \u001b[38;5;28;01mif\u001b[39;00m alpha \u001b[38;5;129;01mis\u001b[39;00m \u001b[38;5;129;01mnot\u001b[39;00m \u001b[38;5;28;01mNone\u001b[39;00m \u001b[38;5;28;01melse\u001b[39;00m \u001b[38;5;241m1.\u001b[39m\n\u001b[1;32m--> 374\u001b[0m     \u001b[38;5;28;01mraise\u001b[39;00m \u001b[38;5;167;01mValueError\u001b[39;00m(\u001b[38;5;124mf\u001b[39m\u001b[38;5;124m\"\u001b[39m\u001b[38;5;124mInvalid RGBA argument: \u001b[39m\u001b[38;5;132;01m{\u001b[39;00morig_c\u001b[38;5;132;01m!r}\u001b[39;00m\u001b[38;5;124m\"\u001b[39m)\n\u001b[0;32m    375\u001b[0m \u001b[38;5;66;03m# turn 2-D array into 1-D array\u001b[39;00m\n\u001b[0;32m    376\u001b[0m \u001b[38;5;28;01mif\u001b[39;00m \u001b[38;5;28misinstance\u001b[39m(c, np\u001b[38;5;241m.\u001b[39mndarray):\n",
      "\u001b[1;31mValueError\u001b[0m: Invalid RGBA argument: 'bronze'"
     ]
    },
    {
     "data": {
      "image/png": "[encoded data removed]",
      "text/plain": [
       "<Figure size 640x480 with 1 Axes>"
      ]
     },
     "metadata": {},
     "output_type": "display_data"
    }
   ],
   "source": [
    "import re\n",
    "import matplotlib.pyplot as plt\n",
    "\n",
    "def find_podium_finishes(commentary_text):\n",
    "    podium_finishes = []\n",
    "\n",
    "    # Define patterns for podium mentions\n",
    "    patterns = [\n",
    "        r\"\\b(Perez)\\b\",\n",
    "        r\"\\b(Sainz)\\b\",\n",
    "        r\"\\b(Verstappen)\\b\"\n",
    "    ]\n",
    "\n",
    "    # Search for podium mentions in the commentary\n",
    "    for pattern in patterns:\n",
    "        matches = re.findall(pattern, commentary_text, flags=re.IGNORECASE)\n",
    "        if matches:\n",
    "            podium_finishes.append(matches[0])\n",
    "\n",
    "    return podium_finishes\n",
    "\n",
    "# Example commentary text\n",
    "commentary_text = \"The podium trio make their way to the cooldown room for a drink and a chat. Sainz asks Verstappen if they considered a one-stop but he shakes his head, and Perez adds the hard was the strong tyre today.\"\n",
    "\n",
    "# Find podium finishes in the commentary text\n",
    "podium_finishes = find_podium_finishes(commentary_text)\n",
    "\n",
    "# Create podium visualization\n",
    "positions = [\"1st\", \"2nd\", \"3rd\"]\n",
    "drivers = podium_finishes\n",
    "plt.bar(positions, drivers, color=['gold', 'silver', 'bronze'])\n",
    "plt.xlabel('Position')\n",
    "plt.ylabel('Driver')\n",
    "plt.title('Podium Finishes')\n",
    "plt.show()\n"
   ]
  }
 ],
 "metadata": {
  "kernelspec": {
   "display_name": "Python 3",
   "language": "python",
   "name": "python3"
  },
  "language_info": {
   "codemirror_mode": {
    "name": "ipython",
    "version": 3
   },
   "file_extension": ".py",
   "mimetype": "text/x-python",
   "name": "python",
   "nbconvert_exporter": "python",
   "pygments_lexer": "ipython3",
   "version": "3.10.7"
  }
 },
 "nbformat": 4,
 "nbformat_minor": 2
}
